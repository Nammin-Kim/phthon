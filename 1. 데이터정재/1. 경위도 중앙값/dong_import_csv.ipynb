{
 "cells": [
  {
   "cell_type": "code",
   "execution_count": 11,
   "id": "brave-separate",
   "metadata": {},
   "outputs": [
    {
     "output_type": "stream",
     "name": "stdout",
     "text": [
      "         LGDNG_CD  CTPV_NM CTGG_NM   EMD_NM         LA        LNGT\n0      1100000000    서울특별시    None     None  37.529343  126.951488\n1      1111000000    서울특별시     종로구     None  37.585862  126.977537\n2      1111010100    서울특별시     종로구      청운동  37.589197  126.969329\n3      1111010200    서울특별시     종로구      신교동  37.584490  126.967923\n4      1111010300    서울특별시     종로구      궁정동  37.584682  126.973144\n...           ...      ...     ...      ...        ...         ...\n20567  5013032022  제주특별자치도    서귀포시  표선면 하천리        NaN         NaN\n20568  5013032023  제주특별자치도    서귀포시  표선면 성읍리        NaN         NaN\n20569  5013032024  제주특별자치도    서귀포시  표선면 가시리        NaN         NaN\n20570  5013032025  제주특별자치도    서귀포시  표선면 세화리        NaN         NaN\n20571  5013032026  제주특별자치도    서귀포시  표선면 토산리        NaN         NaN\n\n[20572 rows x 6 columns]\n"
     ]
    }
   ],
   "source": [
    "# 참고 URL\n",
    "# https://thispointer.com/python-pandas-how-to-add-rows-in-a-dataframe-using-dataframe-append-loc-iloc/\n",
    "\n",
    "import json\n",
    "import csv\n",
    "import pandas as pd\n",
    "\n",
    "df1 = pd.DataFrame(columns=['LGDNG_CD', 'CTPV_NM', 'CTGG_NM', 'EMD_NM', 'LA', 'LNGT'])\n",
    "\n",
    "\n",
    "# df1 = df1.append({'LGDNG_CD' : '1'} , ignore_index=True)\n",
    "\n",
    "with open ('./center_GIN00010M.json', 'r', encoding='UTF8') as in_file:\n",
    "\n",
    "    json_data = json.load(in_file)\n",
    "\n",
    "    for player in json_data:\n",
    "\n",
    "        df1 = df1.append({'LGDNG_CD' : player['LGDNG_CD'],\n",
    "                         'CTPV_NM' : player['CTPV_NM'] ,\n",
    "                         'CTGG_NM' : player['CTGG_NM'] ,\n",
    "                         'EMD_NM' : player['EMD_NM'] ,\n",
    "                         'LA' : player['LA'] ,\n",
    "                         'LNGT' : player['LNGT'] }, ignore_index=True)\n",
    "\n",
    "\n",
    "# print(type(player['LGDNG_CD'])) # -> str형\n",
    "\n",
    "print(df1)"
   ]
  },
  {
   "cell_type": "code",
   "execution_count": 12,
   "id": "alive-oasis",
   "metadata": {
    "scrolled": true
   },
   "outputs": [
    {
     "output_type": "stream",
     "name": "stdout",
     "text": [
      "         LGDNG_CD  CTPV_NM CTGG_NM EMD_NM         LA        LNGT\n2      1111010100    서울특별시     종로구    청운동  37.589197  126.969329\n3      1111010200    서울특별시     종로구    신교동  37.584490  126.967923\n4      1111010300    서울특별시     종로구    궁정동  37.584682  126.973144\n5      1111010400    서울특별시     종로구    효자동  37.582649  126.971931\n6      1111010500    서울특별시     종로구    창성동  37.580545  126.972462\n...           ...      ...     ...    ...        ...         ...\n20516  5013025000  제주특별자치도    서귀포시    대정읍  33.226820  126.252132\n20530  5013025300  제주특별자치도    서귀포시    남원읍  33.279877  126.720665\n20540  5013025900  제주특별자치도    서귀포시    성산읍  33.442084  126.910957\n20553  5013031000  제주특별자치도    서귀포시    안덕면  33.257558  126.330674\n20565  5013032000  제주특별자치도    서귀포시    표선면  33.326716  126.830982\n\n[5050 rows x 6 columns]\n"
     ]
    }
   ],
   "source": [
    "df1 = df1.dropna(subset=['CTPV_NM', 'CTGG_NM', 'EMD_NM','LA'])\n",
    "print(df1)"
   ]
  },
  {
   "cell_type": "code",
   "execution_count": 13,
   "id": "advised-payday",
   "metadata": {},
   "outputs": [],
   "source": [
    "df1.to_csv('sample.csv', index=False, encoding='euc-kr')"
   ]
  }
 ],
 "metadata": {
  "kernelspec": {
   "name": "python368jvsc74a57bd0899168b2088fb17b5e7c8f9b1719fd647aabeed9668d444afb5fd1fb528c2b90",
   "display_name": "Python 3.6.8 64-bit"
  },
  "language_info": {
   "codemirror_mode": {
    "name": "ipython",
    "version": 3
   },
   "file_extension": ".py",
   "mimetype": "text/x-python",
   "name": "python",
   "nbconvert_exporter": "python",
   "pygments_lexer": "ipython3",
   "version": "3.6.8"
  },
  "metadata": {
   "interpreter": {
    "hash": "899168b2088fb17b5e7c8f9b1719fd647aabeed9668d444afb5fd1fb528c2b90"
   }
  }
 },
 "nbformat": 4,
 "nbformat_minor": 5
}