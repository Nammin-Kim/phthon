{
 "metadata": {
  "language_info": {
   "codemirror_mode": {
    "name": "ipython",
    "version": 3
   },
   "file_extension": ".py",
   "mimetype": "text/x-python",
   "name": "python",
   "nbconvert_exporter": "python",
   "pygments_lexer": "ipython3",
   "version": "3.6.8"
  },
  "orig_nbformat": 2,
  "kernelspec": {
   "name": "python3",
   "display_name": "Python 3.6.8 64-bit",
   "metadata": {
    "interpreter": {
     "hash": "899168b2088fb17b5e7c8f9b1719fd647aabeed9668d444afb5fd1fb528c2b90"
    }
   }
  }
 },
 "nbformat": 4,
 "nbformat_minor": 2,
 "cells": [
  {
   "cell_type": "code",
   "execution_count": 102,
   "metadata": {},
   "outputs": [
    {
     "output_type": "execute_result",
     "data": {
      "text/plain": [
       "Index(['번호', '실거래정보코드', '신고유형', '거래원인', '물건구분', '계약일자', '신고일자', '지번주소', '상세주소',\n",
       "       '단지명', '동', '호', '토지면적(㎡)', '건물면적(㎡)', '거래금액(원)', '용도지역', '지목', '건물유형',\n",
       "       '지분여부', '거래지분', '매수자유형', '매도자유형', '매수자거주지', 'X좌표', 'Y좌표', '지번코드',\n",
       "       '공부면적(㎡)', '용도지구', '세부토지용도', '이용상황', '고저', '형상', '방위', '가로조건', '도로거리',\n",
       "       '지가(원/㎡)', '1년전지가(원/㎡)', '2년전지가(원/㎡)', '3년전지가(원/㎡)', '4년전지가(원/㎡)'],\n",
       "      dtype='object')"
      ]
     },
     "metadata": {},
     "execution_count": 102
    }
   ],
   "source": [
    "import os\n",
    "import pyproj\n",
    "import csv\n",
    "import pandas as pd\n",
    "\n",
    "# 1. 파일 위치에 union할 파일명 가져와서 union 시키기\n",
    "\n",
    "# Lambda 형 활용!! (중요)\n",
    "match_list = list(filter(lambda x: \"실거래조회\"in x, os.listdir('./')))\n",
    "\n",
    "# match_list\n",
    "\n",
    "df_data = pd.concat([pd.read_csv(f, encoding= 'EUC-KR') for f in match_list])\n",
    "df_data.reset_index(inplace=True, drop=True)\n",
    "\n",
    "# df_data.head(5)\n",
    "\n",
    "df_data.columns\n"
   ]
  },
  {
   "cell_type": "code",
   "execution_count": 103,
   "metadata": {},
   "outputs": [
    {
     "output_type": "execute_result",
     "data": {
      "text/plain": [
       "array(['2016', '2017', '2018', '2021', '2020', '2019'], dtype=object)"
      ]
     },
     "metadata": {},
     "execution_count": 103
    }
   ],
   "source": [
    "# 2. 정상적으로 union 됐는지 확인\n",
    "\n",
    "df_data['계약일자'].str[:4].unique()"
   ]
  },
  {
   "cell_type": "code",
   "execution_count": 135,
   "metadata": {
    "tags": []
   },
   "outputs": [
    {
     "output_type": "stream",
     "name": "stdout",
     "text": [
      "경기도 광명시 광명동 11-20 : \t 37.48742828350402 \t 126.85998313886667 \t 187547.0 \t 442813.0\n"
     ]
    },
    {
     "output_type": "execute_result",
     "data": {
      "text/plain": [
       "                     지번코드       X좌표       Y좌표        lng         lat\n",
       "0     4121010100100110020  187547.0  442813.0  37.487428  126.859983\n",
       "1     4121010100100110105  187495.0  442764.0  37.486986  126.859396\n",
       "2     4121010100100240095  187679.0  442071.0  37.480745  126.861488\n",
       "3     4121010100100240113  187680.0  442035.0  37.480420  126.861500\n",
       "4     4121010100100270089  187717.0  441998.0  37.480087  126.861919\n",
       "...                   ...       ...       ...        ...         ...\n",
       "6776  4121010800200210016  185219.0  441186.0  37.472735  126.833693\n",
       "6777  4121010800200210017  185234.0  441143.0  37.472347  126.833864\n",
       "6778  4121010800201160001  184816.0  440149.0  37.463385  126.829159\n",
       "6779  4121010800201160001  184819.0  440154.0  37.463430  126.829193\n",
       "6780  4121010800201160022  184838.0  440187.0  37.463727  126.829407\n",
       "\n",
       "[6781 rows x 5 columns]"
      ],
      "text/html": "<div>\n<style scoped>\n    .dataframe tbody tr th:only-of-type {\n        vertical-align: middle;\n    }\n\n    .dataframe tbody tr th {\n        vertical-align: top;\n    }\n\n    .dataframe thead th {\n        text-align: right;\n    }\n</style>\n<table border=\"1\" class=\"dataframe\">\n  <thead>\n    <tr style=\"text-align: right;\">\n      <th></th>\n      <th>지번코드</th>\n      <th>X좌표</th>\n      <th>Y좌표</th>\n      <th>lng</th>\n      <th>lat</th>\n    </tr>\n  </thead>\n  <tbody>\n    <tr>\n      <th>0</th>\n      <td>4121010100100110020</td>\n      <td>187547.0</td>\n      <td>442813.0</td>\n      <td>37.487428</td>\n      <td>126.859983</td>\n    </tr>\n    <tr>\n      <th>1</th>\n      <td>4121010100100110105</td>\n      <td>187495.0</td>\n      <td>442764.0</td>\n      <td>37.486986</td>\n      <td>126.859396</td>\n    </tr>\n    <tr>\n      <th>2</th>\n      <td>4121010100100240095</td>\n      <td>187679.0</td>\n      <td>442071.0</td>\n      <td>37.480745</td>\n      <td>126.861488</td>\n    </tr>\n    <tr>\n      <th>3</th>\n      <td>4121010100100240113</td>\n      <td>187680.0</td>\n      <td>442035.0</td>\n      <td>37.480420</td>\n      <td>126.861500</td>\n    </tr>\n    <tr>\n      <th>4</th>\n      <td>4121010100100270089</td>\n      <td>187717.0</td>\n      <td>441998.0</td>\n      <td>37.480087</td>\n      <td>126.861919</td>\n    </tr>\n    <tr>\n      <th>...</th>\n      <td>...</td>\n      <td>...</td>\n      <td>...</td>\n      <td>...</td>\n      <td>...</td>\n    </tr>\n    <tr>\n      <th>6776</th>\n      <td>4121010800200210016</td>\n      <td>185219.0</td>\n      <td>441186.0</td>\n      <td>37.472735</td>\n      <td>126.833693</td>\n    </tr>\n    <tr>\n      <th>6777</th>\n      <td>4121010800200210017</td>\n      <td>185234.0</td>\n      <td>441143.0</td>\n      <td>37.472347</td>\n      <td>126.833864</td>\n    </tr>\n    <tr>\n      <th>6778</th>\n      <td>4121010800201160001</td>\n      <td>184816.0</td>\n      <td>440149.0</td>\n      <td>37.463385</td>\n      <td>126.829159</td>\n    </tr>\n    <tr>\n      <th>6779</th>\n      <td>4121010800201160001</td>\n      <td>184819.0</td>\n      <td>440154.0</td>\n      <td>37.463430</td>\n      <td>126.829193</td>\n    </tr>\n    <tr>\n      <th>6780</th>\n      <td>4121010800201160022</td>\n      <td>184838.0</td>\n      <td>440187.0</td>\n      <td>37.463727</td>\n      <td>126.829407</td>\n    </tr>\n  </tbody>\n</table>\n<p>6781 rows × 5 columns</p>\n</div>"
     },
     "metadata": {},
     "execution_count": 135
    }
   ],
   "source": [
    "# 3. X좌표, Y좌표 변환 (X좌표 = lng 경도, Y좌표 = lat 위도))\n",
    "\n",
    "# 한국 주요 좌표계를 확인하여 실거래가에 나와 있는 X,Y 좌표가 어떠한 형식인지 확인 (epsg5174 라는걸 확인)\n",
    "# epsh5174라는걸 확인하는건 도움을 받았음..\n",
    "\n",
    "# 해당 URL에서 epsg5174를 계산하는 식을 가져와 적용 (https://www.osgeo.kr/17)\n",
    "\n",
    "# epsg:4326은 pyproj를 사용하고 epsg5174는 그냥 사용하는 이유는 약간 다른거 같음\n",
    "\n",
    "\n",
    "# epsg5174 계산식 적용\n",
    "epsg5174 = pyproj.Proj(f'''\n",
    "    +proj=tmerc +lat_0=38 +lon_0=127.0028902777778 +k=1 +x_0=200000 +y_0=500000\n",
    "    +ellps=bessel +units=m +no_defs \n",
    "    +towgs84=-115.80,474.99,674.11,1.16,-2.31,-1.63,6.43\n",
    "''')\n",
    "\n",
    "epsg4326 = pyproj.Proj('epsg:4326')\n",
    "transformer = pyproj.Transformer.from_proj(epsg5174, epsg4326)\n",
    "\n",
    "list_lng = []\n",
    "list_lat = []\n",
    "\n",
    "# 경위도 변환 결과 테스트\n",
    "(trans_lng, trans_lat) = transformer.transform(df_data['X좌표'][0], df_data['Y좌표'][0])\n",
    "print(df_data['지번주소'][0], ': \\t', trans_lng, '\\t', trans_lat, '\\t', df_data['X좌표'][0], '\\t', df_data['Y좌표'][0])\n",
    "\n",
    "\n",
    "for i in range(0, len(df_data)) :\n",
    "\n",
    "    (trans_lng, trans_lat) = transformer.transform(df_data['X좌표'][i], df_data['Y좌표'][i])\n",
    "\n",
    "    list_lng.append(trans_lng)\n",
    "    list_lat.append(trans_lat)\n",
    "\n",
    "\n",
    "df_data['lng'] = list_lng\n",
    "df_data['lat'] = list_lat\n",
    "\n",
    "df_data.loc[:, ['지번코드', 'X좌표', 'Y좌표', 'lng','lat']]"
   ]
  },
  {
   "cell_type": "code",
   "execution_count": 137,
   "metadata": {},
   "outputs": [],
   "source": [
    "df_data.to_csv('output.csv', index=False, encoding='euc-kr')"
   ]
  }
 ]
}